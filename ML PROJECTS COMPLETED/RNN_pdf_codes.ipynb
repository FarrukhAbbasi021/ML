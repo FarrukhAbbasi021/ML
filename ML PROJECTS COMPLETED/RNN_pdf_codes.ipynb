{
  "nbformat": 4,
  "nbformat_minor": 0,
  "metadata": {
    "colab": {
      "provenance": []
    },
    "kernelspec": {
      "name": "python3",
      "display_name": "Python 3"
    },
    "language_info": {
      "name": "python"
    }
  },
  "cells": [
    {
      "cell_type": "markdown",
      "source": [
        "# RNN_Tutorial_codes"
      ],
      "metadata": {
        "id": "yYKW5jqjaHih"
      }
    },
    {
      "cell_type": "code",
      "execution_count": null,
      "metadata": {
        "id": "PokIoIfwXftk"
      },
      "outputs": [],
      "source": [
        "import numpy as np\n",
        "import tensorflow as tf\n",
        "import matplotlib.pyplot as plt"
      ]
    },
    {
      "cell_type": "code",
      "source": [
        "sequence=np.arange(0, 100, dtype=float)\n",
        "sequence1=sequence/100.0\n",
        "sequence1"
      ],
      "metadata": {
        "colab": {
          "base_uri": "https://localhost:8080/"
        },
        "id": "aaoiV6J1aX9d",
        "outputId": "a1fbd04e-ac2a-48a9-a76d-46185859d50a"
      },
      "execution_count": null,
      "outputs": [
        {
          "output_type": "execute_result",
          "data": {
            "text/plain": [
              "array([0.  , 0.01, 0.02, 0.03, 0.04, 0.05, 0.06, 0.07, 0.08, 0.09, 0.1 ,\n",
              "       0.11, 0.12, 0.13, 0.14, 0.15, 0.16, 0.17, 0.18, 0.19, 0.2 , 0.21,\n",
              "       0.22, 0.23, 0.24, 0.25, 0.26, 0.27, 0.28, 0.29, 0.3 , 0.31, 0.32,\n",
              "       0.33, 0.34, 0.35, 0.36, 0.37, 0.38, 0.39, 0.4 , 0.41, 0.42, 0.43,\n",
              "       0.44, 0.45, 0.46, 0.47, 0.48, 0.49, 0.5 , 0.51, 0.52, 0.53, 0.54,\n",
              "       0.55, 0.56, 0.57, 0.58, 0.59, 0.6 , 0.61, 0.62, 0.63, 0.64, 0.65,\n",
              "       0.66, 0.67, 0.68, 0.69, 0.7 , 0.71, 0.72, 0.73, 0.74, 0.75, 0.76,\n",
              "       0.77, 0.78, 0.79, 0.8 , 0.81, 0.82, 0.83, 0.84, 0.85, 0.86, 0.87,\n",
              "       0.88, 0.89, 0.9 , 0.91, 0.92, 0.93, 0.94, 0.95, 0.96, 0.97, 0.98,\n",
              "       0.99])"
            ]
          },
          "metadata": {},
          "execution_count": 53
        }
      ]
    },
    {
      "cell_type": "code",
      "source": [
        "x = np.linspace(0, 50, 1000)\n",
        "y = np.sin(x)\n",
        "\n",
        "print('First 10 x values:', x[:10])\n",
        "print('First 10 y values:', y[:10])"
      ],
      "metadata": {
        "colab": {
          "base_uri": "https://localhost:8080/"
        },
        "id": "xe0-om2aJEky",
        "outputId": "07d5744a-5ba1-48ef-95e6-bcde64fbc904"
      },
      "execution_count": null,
      "outputs": [
        {
          "output_type": "stream",
          "name": "stdout",
          "text": [
            "First 10 x values: [0.         0.05005005 0.1001001  0.15015015 0.2002002  0.25025025\n",
            " 0.3003003  0.35035035 0.4004004  0.45045045]\n",
            "First 10 y values: [0.         0.05002916 0.09993302 0.14958659 0.19886554 0.24764642\n",
            " 0.29580708 0.3432269  0.3897871  0.4353711 ]\n"
          ]
        }
      ]
    },
    {
      "cell_type": "code",
      "source": [
        "model = tf.keras.Sequential([\n",
        "    tf.keras.layers.SimpleRNN(10, activation='tanh', input_shape=(10, 1)),  # Input shape should match the input data dimensions\n",
        "    tf.keras.layers.Dense(1)\n",
        "])\n",
        "\n",
        "model.compile(optimizer='adam', loss='mse')\n",
        "\n",
        "model.summary"
      ],
      "metadata": {
        "colab": {
          "base_uri": "https://localhost:8080/"
        },
        "id": "3vEb4v-eJKAh",
        "outputId": "e5fcd33e-1934-417f-b728-000c821a770d"
      },
      "execution_count": null,
      "outputs": [
        {
          "output_type": "execute_result",
          "data": {
            "text/plain": [
              "<bound method Model.summary of <keras.src.engine.sequential.Sequential object at 0x7b647024af20>>"
            ]
          },
          "metadata": {},
          "execution_count": 55
        }
      ]
    },
    {
      "cell_type": "code",
      "source": [
        "x_train = []\n",
        "y_train = []\n",
        "for i in range(len(x) - 10):\n",
        "    x_train.append(x[i:i+10])\n",
        "    y_train.append(y[i+10])\n",
        "\n",
        "x_train = np.array(x_train).reshape(-1, 10, 1)\n",
        "y_train = np.array(y_train)\n",
        "\n",
        "history = model.fit(x_train, y_train, epochs=10, batch_size=32)"
      ],
      "metadata": {
        "colab": {
          "base_uri": "https://localhost:8080/"
        },
        "id": "xvhcBrAJJRuC",
        "outputId": "7d0f0bf3-2fd0-4401-844b-be04c870e099"
      },
      "execution_count": null,
      "outputs": [
        {
          "output_type": "stream",
          "name": "stdout",
          "text": [
            "Epoch 1/10\n",
            "31/31 [==============================] - 1s 3ms/step - loss: 0.6343\n",
            "Epoch 2/10\n",
            "31/31 [==============================] - 0s 3ms/step - loss: 0.4847\n",
            "Epoch 3/10\n",
            "31/31 [==============================] - 0s 3ms/step - loss: 0.4740\n",
            "Epoch 4/10\n",
            "31/31 [==============================] - 0s 3ms/step - loss: 0.4691\n",
            "Epoch 5/10\n",
            "31/31 [==============================] - 0s 3ms/step - loss: 0.4664\n",
            "Epoch 6/10\n",
            "31/31 [==============================] - 0s 3ms/step - loss: 0.4647\n",
            "Epoch 7/10\n",
            "31/31 [==============================] - 0s 3ms/step - loss: 0.4620\n",
            "Epoch 8/10\n",
            "31/31 [==============================] - 0s 3ms/step - loss: 0.4612\n",
            "Epoch 9/10\n",
            "31/31 [==============================] - 0s 3ms/step - loss: 0.4598\n",
            "Epoch 10/10\n",
            "31/31 [==============================] - 0s 3ms/step - loss: 0.4591\n"
          ]
        }
      ]
    },
    {
      "cell_type": "code",
      "source": [
        "# Prepare the test data\n",
        "x_test = []\n",
        "y_test = []\n",
        "for i in range(len(x) - 20, len(x) - 10):\n",
        "    x_test.append(x[i:i+10])\n",
        "    y_test.append(y[i+10])\n",
        "\n",
        "x_test = np.array(x_test).reshape(-1, 10, 1)\n",
        "y_test = np.array(y_test)\n",
        "\n",
        "loss = model.evaluate(x_test, y_test)\n",
        "print(f'Mean Squared Error: {loss}')"
      ],
      "metadata": {
        "colab": {
          "base_uri": "https://localhost:8080/"
        },
        "id": "hPWqorp7Kusj",
        "outputId": "74edb1f2-a5bc-42a7-ef58-ff4716d0b3c2"
      },
      "execution_count": null,
      "outputs": [
        {
          "output_type": "stream",
          "name": "stdout",
          "text": [
            "1/1 [==============================] - 0s 198ms/step - loss: 0.1970\n",
            "Mean Squared Error: 0.19696521759033203\n"
          ]
        }
      ]
    },
    {
      "cell_type": "code",
      "source": [
        "loss=model.evaluate(x_train, y_train)\n",
        "\n",
        "print('Training loss:', loss)\n",
        "\n",
        "y_pred=model.predict(x_train)\n",
        "\n",
        "plt.figsize=(10,6)\n",
        "plt.plot(y_train,label='Actual')\n",
        "plt.plot(y_pred,label='Predicted')\n",
        "plt.legend()\n",
        "plt.title('Actual vs Predicted')\n",
        "plt.show()"
      ],
      "metadata": {
        "colab": {
          "base_uri": "https://localhost:8080/",
          "height": 504
        },
        "id": "8pfI32JCNV86",
        "outputId": "9d961440-354f-406d-8f04-3b2d810f814c"
      },
      "execution_count": null,
      "outputs": [
        {
          "output_type": "stream",
          "name": "stdout",
          "text": [
            "31/31 [==============================] - 0s 2ms/step - loss: 0.4569\n",
            "Training loss: 0.4568895101547241\n",
            "31/31 [==============================] - 0s 2ms/step\n"
          ]
        },
        {
          "output_type": "display_data",
          "data": {
            "text/plain": [
              "<Figure size 640x480 with 1 Axes>"
            ],
            "image/png": "[encoded data removed]"
          },
          "metadata": {}
        }
      ]
    },
    {
      "cell_type": "markdown",
      "source": [
        "# RNN_TEXT_Tutorial_Codes"
      ],
      "metadata": {
        "id": "xtaYzxNFDhb4"
      }
    },
    {
      "cell_type": "code",
      "source": [
        "from tensorflow.keras.preprocessing.text import Tokenizer\n",
        "from tensorflow.keras.preprocessing.sequence import pad_sequences"
      ],
      "metadata": {
        "id": "_ti58ggiDeCk"
      },
      "execution_count": null,
      "outputs": []
    },
    {
      "cell_type": "code",
      "source": [
        "sentence=['I Love Programming', 'Data Science is awesome','NLp is a part of AI' ]\n",
        "tokenizer=Tokenizer(num_words=100, oov_token='<OOV>')"
      ],
      "metadata": {
        "id": "oyKp1wgNGqdC"
      },
      "execution_count": null,
      "outputs": []
    },
    {
      "cell_type": "code",
      "source": [
        "tokenizer.fit_on_texts(sentence)"
      ],
      "metadata": {
        "id": "qPrYf-BTPMiB"
      },
      "execution_count": null,
      "outputs": []
    },
    {
      "cell_type": "code",
      "source": [
        "word_index=tokenizer.word_index"
      ],
      "metadata": {
        "id": "SKHkSZG5PVpx"
      },
      "execution_count": null,
      "outputs": []
    },
    {
      "cell_type": "code",
      "source": [
        "sequences=tokenizer.texts_to_sequences(sentence)"
      ],
      "metadata": {
        "id": "HZ3htSm_PlSJ"
      },
      "execution_count": null,
      "outputs": []
    },
    {
      "cell_type": "code",
      "source": [
        "padded_sequences=pad_sequences(sequences,padding='post')\n",
        "padded_sequences"
      ],
      "metadata": {
        "colab": {
          "base_uri": "https://localhost:8080/"
        },
        "id": "7Wzz-qo6Pxbz",
        "outputId": "ab9399f7-0592-4d95-c0b0-d335928c4c21"
      },
      "execution_count": null,
      "outputs": [
        {
          "output_type": "execute_result",
          "data": {
            "text/plain": [
              "array([[ 3,  4,  5,  0,  0,  0],\n",
              "       [ 6,  7,  2,  8,  0,  0],\n",
              "       [ 9,  2, 10, 11, 12, 13]], dtype=int32)"
            ]
          },
          "metadata": {},
          "execution_count": 64
        }
      ]
    },
    {
      "cell_type": "code",
      "source": [
        "from tensorflow.keras.models import Sequential\n",
        "from tensorflow.keras.layers import Embedding,SimpleRNN,Dense"
      ],
      "metadata": {
        "id": "WDHV_MsIQHQK"
      },
      "execution_count": null,
      "outputs": []
    },
    {
      "cell_type": "code",
      "source": [
        "from keras.models import Sequential\n",
        "model = Sequential([\n",
        "    Embedding(100,64,input_length=10),\n",
        "    Dense(1,activation=tf.sigmoid)\n",
        "])\n",
        "model.compile(optimizer='adam',loss='binary_crossentropy',metrics=['accuracy'])\n",
        "model.summary()"
      ],
      "metadata": {
        "colab": {
          "base_uri": "https://localhost:8080/"
        },
        "id": "aLfBz4teQ8w0",
        "outputId": "0894e896-a8ff-4daa-828a-1039c2131bde"
      },
      "execution_count": null,
      "outputs": [
        {
          "output_type": "stream",
          "name": "stdout",
          "text": [
            "Model: \"sequential_9\"\n",
            "_________________________________________________________________\n",
            " Layer (type)                Output Shape              Param #   \n",
            "=================================================================\n",
            " embedding_6 (Embedding)     (None, 10, 64)            6400      \n",
            "                                                                 \n",
            " dense_8 (Dense)             (None, 10, 1)             65        \n",
            "                                                                 \n",
            "=================================================================\n",
            "Total params: 6465 (25.25 KB)\n",
            "Trainable params: 6465 (25.25 KB)\n",
            "Non-trainable params: 0 (0.00 Byte)\n",
            "_________________________________________________________________\n"
          ]
        }
      ]
    },
    {
      "cell_type": "code",
      "source": [
        "train_sequences = np.array(padded_sequences)\n",
        "labels = np.array([1, 0, 1])\n"
      ],
      "metadata": {
        "id": "e7sePW4Qwi17"
      },
      "execution_count": null,
      "outputs": []
    },
    {
      "cell_type": "code",
      "source": [
        "from tensorflow.keras.models import Sequential\n",
        "from tensorflow.keras.layers import Embedding, LSTM, Dense\n",
        "import numpy as np\n",
        "\n",
        "model = Sequential()\n",
        "model.add(Embedding(input_dim=100, output_dim=64, input_length=6))\n",
        "model.add(LSTM(32))\n",
        "model.add(Dense(1, activation='sigmoid'))\n",
        "\n",
        "model.compile(optimizer='adam', loss='binary_crossentropy', metrics=['accuracy'])\n",
        "model.summary()\n",
        "\n",
        "train_sequences = np.array(padded_sequences)\n",
        "labels = np.array([1, 0, 1])\n",
        "\n",
        "history = model.fit(train_sequences, labels, epochs=3)\n"
      ],
      "metadata": {
        "colab": {
          "base_uri": "https://localhost:8080/"
        },
        "id": "S0KxP8COwlLF",
        "outputId": "98146439-5048-46c0-ee14-18fe57d59288"
      },
      "execution_count": null,
      "outputs": [
        {
          "output_type": "stream",
          "name": "stdout",
          "text": [
            "Model: \"sequential_10\"\n",
            "_________________________________________________________________\n",
            " Layer (type)                Output Shape              Param #   \n",
            "=================================================================\n",
            " embedding_8 (Embedding)     (None, 6, 64)             6400      \n",
            "                                                                 \n",
            " lstm_5 (LSTM)               (None, 32)                12416     \n",
            "                                                                 \n",
            " dense_9 (Dense)             (None, 1)                 33        \n",
            "                                                                 \n",
            "=================================================================\n",
            "Total params: 18849 (73.63 KB)\n",
            "Trainable params: 18849 (73.63 KB)\n",
            "Non-trainable params: 0 (0.00 Byte)\n",
            "_________________________________________________________________\n",
            "Epoch 1/3\n",
            "1/1 [==============================] - 2s 2s/step - loss: 0.6889 - accuracy: 0.6667\n",
            "Epoch 2/3\n",
            "1/1 [==============================] - 0s 13ms/step - loss: 0.6854 - accuracy: 0.6667\n",
            "Epoch 3/3\n",
            "1/1 [==============================] - 0s 13ms/step - loss: 0.6818 - accuracy: 0.6667\n"
          ]
        }
      ]
    },
    {
      "cell_type": "code",
      "source": [
        "train_labels = np.array([0, 1, 0])\n",
        "history=model.fit(padded_sequences, train_labels, epochs=5, batch_size=1)"
      ],
      "metadata": {
        "colab": {
          "base_uri": "https://localhost:8080/"
        },
        "id": "GGhONu3mxV-q",
        "outputId": "a5701efd-1f1c-4f75-a9ae-88fadc707848"
      },
      "execution_count": null,
      "outputs": [
        {
          "output_type": "stream",
          "name": "stdout",
          "text": [
            "Epoch 1/5\n",
            "3/3 [==============================] - 0s 18ms/step - loss: 0.7116 - accuracy: 0.3333\n",
            "Epoch 2/5\n",
            "3/3 [==============================] - 0s 23ms/step - loss: 0.7094 - accuracy: 0.3333\n",
            "Epoch 3/5\n",
            "3/3 [==============================] - 0s 19ms/step - loss: 0.7069 - accuracy: 0.3333\n",
            "Epoch 4/5\n",
            "3/3 [==============================] - 0s 11ms/step - loss: 0.7022 - accuracy: 0.3333\n",
            "Epoch 5/5\n",
            "3/3 [==============================] - 0s 12ms/step - loss: 0.6970 - accuracy: 0.3333\n"
          ]
        }
      ]
    },
    {
      "cell_type": "code",
      "source": [
        "test_sentence=['I Love Programming','programming is fun','AI is a part of computer Science']\n",
        "test_labels=[1,0,1]"
      ],
      "metadata": {
        "id": "y2gG9Pjiwn8T"
      },
      "execution_count": null,
      "outputs": []
    },
    {
      "cell_type": "code",
      "source": [
        "test_sequence = [str(item) for item in test_sequence]\n",
        "\n",
        "test_sequences = tokenizer.texts_to_sequences(test_sequence)\n",
        "maxlen = 6\n",
        "padded_test_sequences = pad_sequences(test_sequences, maxlen=maxlen, padding='post')\n"
      ],
      "metadata": {
        "id": "xu-0R4dDzsbY"
      },
      "execution_count": null,
      "outputs": []
    },
    {
      "cell_type": "code",
      "source": [
        "test_labels = np.array(test_labels)\n",
        "test_loss,test_accuracy=model.evaluate(padded_test_sequences,test_labels)\n",
        "test_accuracy"
      ],
      "metadata": {
        "colab": {
          "base_uri": "https://localhost:8080/"
        },
        "id": "scSxuLFi1MxC",
        "outputId": "86dbd860-4410-423d-d05e-37966953dbb6"
      },
      "execution_count": null,
      "outputs": [
        {
          "output_type": "stream",
          "name": "stdout",
          "text": [
            "1/1 [==============================] - 0s 476ms/step - loss: 0.6930 - accuracy: 0.6667\n"
          ]
        },
        {
          "output_type": "execute_result",
          "data": {
            "text/plain": [
              "0.6666666865348816"
            ]
          },
          "metadata": {},
          "execution_count": 85
        }
      ]
    }
  ]
}